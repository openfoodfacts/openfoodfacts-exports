{
 "cells": [
  {
   "cell_type": "markdown",
   "id": "67bad70b-88fe-4d5c-8a66-ed78dea0ad6a",
   "metadata": {},
   "source": [
    "# Tutorial: Hands on Open Food Fact Data\n",
    "\n",
    "A small tutorial to get hands on Open Food Facts Data!"
   ]
  },
  {
   "cell_type": "markdown",
   "id": "a542f641-b48b-4d56-869c-23b1ce0c8a7c",
   "metadata": {},
   "source": [
    "## Getting the data\n",
    "\n",
    "The Open Food Facts data is available in several way:\n",
    "* through [the API](https://openfoodfacts.github.io/openfoodfacts-server/api/) - but this is **mandatory** to use it only for real scan / direct usage by users (applications)\n",
    "* through its exports: https://world.openfoodfacts.org/data\n",
    "\n"
   ]
  },
  {
   "cell_type": "markdown",
   "id": "8f89a455-e93d-4743-948c-134074dd64bb",
   "metadata": {
    "execution": {
     "iopub.execute_input": "2025-09-29T11:57:13.944450Z",
     "iopub.status.busy": "2025-09-29T11:57:13.944218Z",
     "iopub.status.idle": "2025-09-29T11:57:13.947445Z",
     "shell.execute_reply": "2025-09-29T11:57:13.946615Z",
     "shell.execute_reply.started": "2025-09-29T11:57:13.944418Z"
    }
   },
   "source": [
    "### The parquet export"
   ]
  },
  {
   "cell_type": "markdown",
   "id": "322f9d8f-a77f-4b29-9595-47001c44e2c5",
   "metadata": {},
   "source": [
    "In this tutorial we will use the **parquet** export available on hugginface, because it's very handy."
   ]
  },
  {
   "cell_type": "markdown",
   "id": "2d6a6130",
   "metadata": {},
   "source": [
    "For commodity we will use duckdb (but you may as well use pandas directly).\n",
    "So let's install it first."
   ]
  },
  {
   "cell_type": "code",
   "execution_count": 2,
   "id": "84fc0fb7",
   "metadata": {
    "execution": {
     "iopub.execute_input": "2025-09-29T08:05:16.565156Z",
     "iopub.status.busy": "2025-09-29T08:05:16.564806Z",
     "iopub.status.idle": "2025-09-29T08:05:20.825874Z",
     "shell.execute_reply": "2025-09-29T08:05:20.824621Z",
     "shell.execute_reply.started": "2025-09-29T08:05:16.565135Z"
    },
    "scrolled": true,
    "vscode": {
     "languageId": "plaintext"
    }
   },
   "outputs": [],
   "source": [
    "# duckdb database\n",
    "!pip install --quiet duckdb==1.4.1.dev125  # note: 1.4.0 has a problem with sqlalchemy driver\n",
    "# integrate sql directly in jupyterlab\n",
    "!pip install --quiet jupysql==0.11.1\n",
    "# jupysql needs duckdb driver\n",
    "!pip install --quiet duckdb-engine==0.17.0\n",
    "# pandas for better outputs\n",
    "!pip install --quiet pandas\n",
    "# download huggingface data\n",
    "!pip install --quiet huggingface_hub\n",
    "\n",
    "# the Open Food Facts SDK\n",
    "!pip install --quiet openfoodfacts==3.1.0"
   ]
  },
  {
   "cell_type": "code",
   "execution_count": 3,
   "id": "a9af3f29-61fd-4077-aefb-520a92cb4073",
   "metadata": {
    "execution": {
     "iopub.execute_input": "2025-09-29T08:05:20.827386Z",
     "iopub.status.busy": "2025-09-29T08:05:20.827086Z",
     "iopub.status.idle": "2025-09-29T08:05:21.449365Z",
     "shell.execute_reply": "2025-09-29T08:05:21.448464Z",
     "shell.execute_reply.started": "2025-09-29T08:05:20.827366Z"
    }
   },
   "outputs": [],
   "source": [
    "import duckdb\n",
    "\n",
    "%load_ext sql"
   ]
  },
  {
   "cell_type": "code",
   "execution_count": 4,
   "id": "f7c7698d-5ad8-4cda-b9b6-5552de9f547e",
   "metadata": {
    "execution": {
     "iopub.execute_input": "2025-09-29T08:05:21.450651Z",
     "iopub.status.busy": "2025-09-29T08:05:21.450213Z",
     "iopub.status.idle": "2025-09-29T08:05:21.461424Z",
     "shell.execute_reply": "2025-09-29T08:05:21.460485Z",
     "shell.execute_reply.started": "2025-09-29T08:05:21.450625Z"
    }
   },
   "outputs": [],
   "source": [
    "%config SqlMagic.autopandas = True\n",
    "%config SqlMagic.feedback = False\n",
    "%config SqlMagic.displaycon = False"
   ]
  },
  {
   "cell_type": "markdown",
   "id": "1c6b067b-e1d8-4161-9c51-a1f95e6e8af1",
   "metadata": {},
   "source": [
    "Let's open a database to work"
   ]
  },
  {
   "cell_type": "code",
   "execution_count": 5,
   "id": "ef2511c6-dcd9-4b18-b1fe-df20fe02a363",
   "metadata": {
    "execution": {
     "iopub.execute_input": "2025-09-29T08:05:21.462873Z",
     "iopub.status.busy": "2025-09-29T08:05:21.462590Z",
     "iopub.status.idle": "2025-09-29T08:05:21.572816Z",
     "shell.execute_reply": "2025-09-29T08:05:21.572349Z",
     "shell.execute_reply.started": "2025-09-29T08:05:21.462839Z"
    }
   },
   "outputs": [],
   "source": [
    "import sqlalchemy\n",
    "import os\n",
    "engine = sqlalchemy.create_engine(f'duckdb:///{os.getcwd()}/fr_food_ingredients.db')\n",
    "%sql engine --alias fr_food"
   ]
  },
  {
   "cell_type": "code",
   "execution_count": 6,
   "id": "7aba4b73-1424-4be1-a7d2-ce678e050546",
   "metadata": {
    "execution": {
     "iopub.execute_input": "2025-09-29T08:05:21.573683Z",
     "iopub.status.busy": "2025-09-29T08:05:21.573404Z",
     "iopub.status.idle": "2025-09-29T08:05:21.578879Z",
     "shell.execute_reply": "2025-09-29T08:05:21.577783Z",
     "shell.execute_reply.started": "2025-09-29T08:05:21.573668Z"
    }
   },
   "outputs": [],
   "source": [
    "%config SqlMagic.named_parameters=\"disabled\""
   ]
  },
  {
   "cell_type": "markdown",
   "id": "828e8697-3cba-48f7-978b-2daf2e43e990",
   "metadata": {},
   "source": [
    "Maybe we have a huggingface token to avoid rate limiting"
   ]
  },
  {
   "cell_type": "code",
   "execution_count": 7,
   "id": "b7327be5-81d1-44a5-b9a7-c15b2317270f",
   "metadata": {
    "execution": {
     "iopub.execute_input": "2025-09-29T08:05:21.579872Z",
     "iopub.status.busy": "2025-09-29T08:05:21.579561Z",
     "iopub.status.idle": "2025-09-29T08:05:21.616918Z",
     "shell.execute_reply": "2025-09-29T08:05:21.616253Z",
     "shell.execute_reply.started": "2025-09-29T08:05:21.579833Z"
    }
   },
   "outputs": [
    {
     "name": "stdout",
     "output_type": "stream",
     "text": [
      "HF_TOKEN set to *********fB\n"
     ]
    }
   ],
   "source": [
    "import pathlib\n",
    "import os\n",
    "token_path = pathlib.Path('hf-token')\n",
    "if token_path.exists():\n",
    "    HF_TOKEN = token_path.open().read().strip()\n",
    "    os.environ[\"HF_TOKEN\"] = HF_TOKEN\n",
    "    print(f\"HF_TOKEN set to *********{HF_TOKEN[-2:]}\") "
   ]
  },
  {
   "cell_type": "markdown",
   "id": "1c9e1c44-9d6b-4ae3-81a0-64ba24b8a743",
   "metadata": {
    "vscode": {
     "languageId": "plaintext"
    }
   },
   "source": [
    "Now let's get some data. We will download the parquet locally (4Gb !)"
   ]
  },
  {
   "cell_type": "code",
   "execution_count": 8,
   "id": "24ee651e-4fe6-4b20-83ba-d7599b8ccd84",
   "metadata": {
    "editable": true,
    "execution": {
     "iopub.execute_input": "2025-09-29T08:05:22.192217Z",
     "iopub.status.busy": "2025-09-29T08:05:22.191955Z",
     "iopub.status.idle": "2025-09-29T08:05:22.321826Z",
     "shell.execute_reply": "2025-09-29T08:05:22.320974Z",
     "shell.execute_reply.started": "2025-09-29T08:05:22.192200Z"
    },
    "slideshow": {
     "slide_type": ""
    },
    "tags": []
   },
   "outputs": [
    {
     "name": "stderr",
     "output_type": "stream",
     "text": [
      "/home/alex/docker/off-data-tutorial/venv/lib/python3.13/site-packages/tqdm/auto.py:21: TqdmWarning: IProgress not found. Please update jupyter and ipywidgets. See https://ipywidgets.readthedocs.io/en/stable/user_install.html\n",
      "  from .autonotebook import tqdm as notebook_tqdm\n"
     ]
    }
   ],
   "source": [
    "from huggingface_hub import hf_hub_download\n",
    "# \n",
    "if not pathlib.Path('food.parquet').exists():\n",
    "    hf_hub_download(repo_id=\"openfoodfacts/product-database\", repo_type=\"dataset\", filename=\"food.parquet\", token=HF_TOKEN, local_dir=\".\")"
   ]
  },
  {
   "cell_type": "markdown",
   "id": "4ccf1af6-0562-402e-89af-184f826a79ca",
   "metadata": {},
   "source": [
    "From this parquet we can make a smaller duckdb database (but we could query the parquet directly).\n",
    "\n",
    "A good helper is https://wiki.openfoodfacts.org/DuckDB_Cheatsheet\n",
    "\n",
    "We will get data for France, where we have at least have ingredients.\n",
    "\n",
    "For that, we will filter on country having France and number ingredients > 0"
   ]
  },
  {
   "cell_type": "code",
   "execution_count": 9,
   "id": "c8b1dbcb-ad7e-49de-96cd-df7a11d0187a",
   "metadata": {
    "execution": {
     "iopub.execute_input": "2025-09-29T08:05:26.355470Z",
     "iopub.status.busy": "2025-09-29T08:05:26.355170Z",
     "iopub.status.idle": "2025-09-29T08:06:22.631656Z",
     "shell.execute_reply": "2025-09-29T08:06:22.630859Z",
     "shell.execute_reply.started": "2025-09-29T08:05:26.355450Z"
    }
   },
   "outputs": [
    {
     "data": {
      "text/html": [
       "<div>\n",
       "<style scoped>\n",
       "    .dataframe tbody tr th:only-of-type {\n",
       "        vertical-align: middle;\n",
       "    }\n",
       "\n",
       "    .dataframe tbody tr th {\n",
       "        vertical-align: top;\n",
       "    }\n",
       "\n",
       "    .dataframe thead th {\n",
       "        text-align: right;\n",
       "    }\n",
       "</style>\n",
       "<table border=\"1\" class=\"dataframe\">\n",
       "  <thead>\n",
       "    <tr style=\"text-align: right;\">\n",
       "      <th></th>\n",
       "      <th>Success</th>\n",
       "    </tr>\n",
       "  </thead>\n",
       "  <tbody>\n",
       "  </tbody>\n",
       "</table>\n",
       "</div>"
      ],
      "text/plain": [
       "Empty DataFrame\n",
       "Columns: [Success]\n",
       "Index: []"
      ]
     },
     "execution_count": 9,
     "metadata": {},
     "output_type": "execute_result"
    }
   ],
   "source": [
    "%%sql fr_food\n",
    "DROP TABLE IF EXISTS products;\n",
    "-- seems to be mandatory to download the file\n",
    "-- SET unsafe_disable_etag_checks = true;\n",
    "CREATE TABLE products AS\n",
    "  SELECT\n",
    "    *\n",
    "  FROM\n",
    "    read_parquet ('food.parquet') AS food\n",
    "  WHERE\n",
    "    'en:france' IN food.countries_tags\n",
    "    AND\n",
    "    food.ingredients_n is not NULL\n",
    ";"
   ]
  },
  {
   "cell_type": "code",
   "execution_count": 10,
   "id": "a8d7f798-cc50-4959-b71e-4df2cacea442",
   "metadata": {
    "execution": {
     "iopub.execute_input": "2025-09-29T08:06:22.633230Z",
     "iopub.status.busy": "2025-09-29T08:06:22.632912Z",
     "iopub.status.idle": "2025-09-29T08:06:22.650251Z",
     "shell.execute_reply": "2025-09-29T08:06:22.649670Z",
     "shell.execute_reply.started": "2025-09-29T08:06:22.633205Z"
    },
    "scrolled": true
   },
   "outputs": [
    {
     "data": {
      "text/html": [
       "<div>\n",
       "<style scoped>\n",
       "    .dataframe tbody tr th:only-of-type {\n",
       "        vertical-align: middle;\n",
       "    }\n",
       "\n",
       "    .dataframe tbody tr th {\n",
       "        vertical-align: top;\n",
       "    }\n",
       "\n",
       "    .dataframe thead th {\n",
       "        text-align: right;\n",
       "    }\n",
       "</style>\n",
       "<table border=\"1\" class=\"dataframe\">\n",
       "  <thead>\n",
       "    <tr style=\"text-align: right;\">\n",
       "      <th></th>\n",
       "      <th>count_star()</th>\n",
       "    </tr>\n",
       "  </thead>\n",
       "  <tbody>\n",
       "    <tr>\n",
       "      <th>0</th>\n",
       "      <td>339105</td>\n",
       "    </tr>\n",
       "  </tbody>\n",
       "</table>\n",
       "</div>"
      ],
      "text/plain": [
       "   count_star()\n",
       "0        339105"
      ]
     },
     "execution_count": 10,
     "metadata": {},
     "output_type": "execute_result"
    }
   ],
   "source": [
    "%%sql\n",
    "SELECT count(*) from products;"
   ]
  },
  {
   "cell_type": "markdown",
   "id": "b0931d9d-abad-4e7e-83a5-977aa7f136b1",
   "metadata": {
    "execution": {
     "iopub.execute_input": "2025-09-29T12:02:57.819928Z",
     "iopub.status.busy": "2025-09-29T12:02:57.819686Z",
     "iopub.status.idle": "2025-09-29T12:02:57.823203Z",
     "shell.execute_reply": "2025-09-29T12:02:57.822510Z",
     "shell.execute_reply.started": "2025-09-29T12:02:57.819909Z"
    }
   },
   "source": [
    "### Other sources"
   ]
  },
  {
   "cell_type": "markdown",
   "id": "06fb8f5a-aa80-4555-b9da-f0edcbeeb724",
   "metadata": {},
   "source": [
    "You also have other format for the export.\n",
    "The mongodb dump, or it's JSONL exports are the more complete, but also the most difficult to read.\n",
    "\n",
    "One popular export is the CSV export, which is very simple to use, but less structured."
   ]
  },
  {
   "cell_type": "markdown",
   "id": "fe4e0e75-5094-4597-afe3-226317310144",
   "metadata": {},
   "source": [
    "## Looking at fields\n",
    "\n",
    "Now that we have our data, let's look a bit at what we have.\n",
    "Let's take for example Gerblés biscuits (among the few nutriscore B biscuits) with code `3175680011480`\n"
   ]
  },
  {
   "cell_type": "code",
   "execution_count": 11,
   "id": "99a5fe7a-40d4-4030-b267-d014a33828e1",
   "metadata": {
    "execution": {
     "iopub.execute_input": "2025-09-29T08:06:22.651200Z",
     "iopub.status.busy": "2025-09-29T08:06:22.650968Z",
     "iopub.status.idle": "2025-09-29T08:06:22.792118Z",
     "shell.execute_reply": "2025-09-29T08:06:22.791231Z",
     "shell.execute_reply.started": "2025-09-29T08:06:22.651187Z"
    }
   },
   "outputs": [
    {
     "data": {
      "text/html": [
       "<div>\n",
       "<style scoped>\n",
       "    .dataframe tbody tr th:only-of-type {\n",
       "        vertical-align: middle;\n",
       "    }\n",
       "\n",
       "    .dataframe tbody tr th {\n",
       "        vertical-align: top;\n",
       "    }\n",
       "\n",
       "    .dataframe thead th {\n",
       "        text-align: right;\n",
       "    }\n",
       "</style>\n",
       "<table border=\"1\" class=\"dataframe\">\n",
       "  <thead>\n",
       "    <tr style=\"text-align: right;\">\n",
       "      <th></th>\n",
       "      <th>additives_n</th>\n",
       "      <th>additives_tags</th>\n",
       "      <th>allergens_tags</th>\n",
       "      <th>brands_tags</th>\n",
       "      <th>brands</th>\n",
       "      <th>categories</th>\n",
       "      <th>categories_tags</th>\n",
       "      <th>categories_properties</th>\n",
       "      <th>checkers_tags</th>\n",
       "      <th>ciqual_food_name_tags</th>\n",
       "      <th>...</th>\n",
       "      <th>states_tags</th>\n",
       "      <th>stores_tags</th>\n",
       "      <th>stores</th>\n",
       "      <th>traces_tags</th>\n",
       "      <th>unique_scans_n</th>\n",
       "      <th>unknown_ingredients_n</th>\n",
       "      <th>unknown_nutrients_tags</th>\n",
       "      <th>vitamins_tags</th>\n",
       "      <th>with_non_nutritive_sweeteners</th>\n",
       "      <th>with_sweeteners</th>\n",
       "    </tr>\n",
       "  </thead>\n",
       "  <tbody>\n",
       "    <tr>\n",
       "      <th>0</th>\n",
       "      <td>4</td>\n",
       "      <td>[en:e322, en:e336, en:e500, en:e503]</td>\n",
       "      <td>[en:gluten, en:sesame-seeds]</td>\n",
       "      <td>[xx:gerble]</td>\n",
       "      <td>Gerblé</td>\n",
       "      <td>Snacks,Snacks sucrés,Biscuits et gâteaux,Biscu...</td>\n",
       "      <td>[en:snacks, en:sweet-snacks, en:biscuits-and-c...</td>\n",
       "      <td>{'ciqual_food_code': None, 'agribalyse_food_co...</td>\n",
       "      <td>[sebleouf]</td>\n",
       "      <td>[unknown]</td>\n",
       "      <td>...</td>\n",
       "      <td>[en:checked, en:complete, en:nutrition-facts-c...</td>\n",
       "      <td>[e-leclerc, carrefour, auchan, monoprix, carre...</td>\n",
       "      <td>E.Leclerc,Carrefour,Auchan,Monoprix,carrefour....</td>\n",
       "      <td>[en:eggs, en:lupin, en:milk, en:mustard, en:nu...</td>\n",
       "      <td>829</td>\n",
       "      <td>0</td>\n",
       "      <td>[]</td>\n",
       "      <td>[en:vitamin-e, en:niacin, en:vitamin-b6, en:th...</td>\n",
       "      <td>&lt;NA&gt;</td>\n",
       "      <td>&lt;NA&gt;</td>\n",
       "    </tr>\n",
       "  </tbody>\n",
       "</table>\n",
       "<p>1 rows × 110 columns</p>\n",
       "</div>"
      ],
      "text/plain": [
       "   additives_n                        additives_tags  \\\n",
       "0            4  [en:e322, en:e336, en:e500, en:e503]   \n",
       "\n",
       "                 allergens_tags  brands_tags  brands  \\\n",
       "0  [en:gluten, en:sesame-seeds]  [xx:gerble]  Gerblé   \n",
       "\n",
       "                                          categories  \\\n",
       "0  Snacks,Snacks sucrés,Biscuits et gâteaux,Biscu...   \n",
       "\n",
       "                                     categories_tags  \\\n",
       "0  [en:snacks, en:sweet-snacks, en:biscuits-and-c...   \n",
       "\n",
       "                               categories_properties checkers_tags  \\\n",
       "0  {'ciqual_food_code': None, 'agribalyse_food_co...    [sebleouf]   \n",
       "\n",
       "  ciqual_food_name_tags  ...  \\\n",
       "0             [unknown]  ...   \n",
       "\n",
       "                                         states_tags  \\\n",
       "0  [en:checked, en:complete, en:nutrition-facts-c...   \n",
       "\n",
       "                                         stores_tags  \\\n",
       "0  [e-leclerc, carrefour, auchan, monoprix, carre...   \n",
       "\n",
       "                                              stores  \\\n",
       "0  E.Leclerc,Carrefour,Auchan,Monoprix,carrefour....   \n",
       "\n",
       "                                         traces_tags  unique_scans_n  \\\n",
       "0  [en:eggs, en:lupin, en:milk, en:mustard, en:nu...             829   \n",
       "\n",
       "  unknown_ingredients_n unknown_nutrients_tags  \\\n",
       "0                     0                     []   \n",
       "\n",
       "                                       vitamins_tags  \\\n",
       "0  [en:vitamin-e, en:niacin, en:vitamin-b6, en:th...   \n",
       "\n",
       "  with_non_nutritive_sweeteners with_sweeteners  \n",
       "0                          <NA>            <NA>  \n",
       "\n",
       "[1 rows x 110 columns]"
      ]
     },
     "execution_count": 11,
     "metadata": {},
     "output_type": "execute_result"
    }
   ],
   "source": [
    "%%sql\n",
    "SELECT * from products where code = '3175680011480';"
   ]
  },
  {
   "cell_type": "code",
   "execution_count": 12,
   "id": "3624fec7-e50d-46f1-96ab-44b5c60d84ac",
   "metadata": {
    "execution": {
     "iopub.execute_input": "2025-09-29T08:06:22.794272Z",
     "iopub.status.busy": "2025-09-29T08:06:22.793809Z",
     "iopub.status.idle": "2025-09-29T08:06:22.798030Z",
     "shell.execute_reply": "2025-09-29T08:06:22.797270Z",
     "shell.execute_reply.started": "2025-09-29T08:06:22.794244Z"
    }
   },
   "outputs": [],
   "source": [
    "biscuits_data = _"
   ]
  },
  {
   "cell_type": "markdown",
   "id": "47b49124-2640-4671-bef6-32d1e5288812",
   "metadata": {},
   "source": [
    "As we can see there are too many columns to see (110), let's get the list nonetheless."
   ]
  },
  {
   "cell_type": "code",
   "execution_count": 13,
   "id": "8d60008a-826d-492a-8c83-4482cf47c770",
   "metadata": {
    "editable": true,
    "execution": {
     "iopub.execute_input": "2025-09-29T08:06:22.799097Z",
     "iopub.status.busy": "2025-09-29T08:06:22.798778Z",
     "iopub.status.idle": "2025-09-29T08:06:22.834610Z",
     "shell.execute_reply": "2025-09-29T08:06:22.833661Z",
     "shell.execute_reply.started": "2025-09-29T08:06:22.799070Z"
    },
    "scrolled": true,
    "slideshow": {
     "slide_type": ""
    },
    "tags": []
   },
   "outputs": [
    {
     "name": "stdout",
     "output_type": "stream",
     "text": [
      "additives_n\n",
      "additives_tags\n",
      "allergens_tags\n",
      "brands_tags\n",
      "brands\n",
      "categories\n",
      "categories_tags\n",
      "categories_properties\n",
      "checkers_tags\n",
      "ciqual_food_name_tags\n",
      "cities_tags\n",
      "code\n",
      "compared_to_category\n",
      "complete\n",
      "completeness\n",
      "correctors_tags\n",
      "countries_tags\n",
      "created_t\n",
      "creator\n",
      "data_quality_errors_tags\n",
      "data_quality_info_tags\n",
      "data_quality_warnings_tags\n",
      "data_sources_tags\n",
      "ecoscore_data\n",
      "ecoscore_grade\n",
      "ecoscore_score\n",
      "ecoscore_tags\n",
      "editors\n",
      "emb_codes_tags\n",
      "emb_codes\n",
      "entry_dates_tags\n",
      "food_groups_tags\n",
      "generic_name\n",
      "images\n",
      "informers_tags\n",
      "ingredients_analysis_tags\n",
      "ingredients_from_palm_oil_n\n",
      "ingredients_n\n",
      "ingredients_original_tags\n",
      "ingredients_percent_analysis\n",
      "ingredients_tags\n",
      "ingredients_text\n",
      "ingredients_with_specified_percent_n\n",
      "ingredients_with_unspecified_percent_n\n",
      "ingredients_without_ciqual_codes_n\n",
      "ingredients_without_ciqual_codes\n",
      "ingredients\n",
      "known_ingredients_n\n",
      "labels_tags\n",
      "labels\n",
      "lang\n",
      "languages_tags\n",
      "last_edit_dates_tags\n",
      "last_editor\n",
      "last_image_t\n",
      "last_modified_by\n",
      "last_modified_t\n",
      "last_updated_t\n",
      "link\n",
      "main_countries_tags\n",
      "manufacturing_places_tags\n",
      "manufacturing_places\n",
      "max_imgid\n",
      "minerals_tags\n",
      "misc_tags\n",
      "new_additives_n\n",
      "no_nutrition_data\n",
      "nova_group\n",
      "nova_groups_tags\n",
      "nova_groups\n",
      "nucleotides_tags\n",
      "nutrient_levels_tags\n",
      "nutriments\n",
      "nutriscore_grade\n",
      "nutriscore_score\n",
      "nutrition_data_per\n",
      "obsolete\n",
      "origins_tags\n",
      "origins\n",
      "owner_fields\n",
      "owner\n",
      "packagings_complete\n",
      "packaging_recycling_tags\n",
      "packaging_shapes_tags\n",
      "packaging_tags\n",
      "packaging_text\n",
      "packaging\n",
      "packagings\n",
      "photographers\n",
      "popularity_key\n",
      "popularity_tags\n",
      "product_name\n",
      "product_quantity_unit\n",
      "product_quantity\n",
      "purchase_places_tags\n",
      "quantity\n",
      "rev\n",
      "scans_n\n",
      "serving_quantity\n",
      "serving_size\n",
      "states_tags\n",
      "stores_tags\n",
      "stores\n",
      "traces_tags\n",
      "unique_scans_n\n",
      "unknown_ingredients_n\n",
      "unknown_nutrients_tags\n",
      "vitamins_tags\n",
      "with_non_nutritive_sweeteners\n",
      "with_sweeteners\n"
     ]
    }
   ],
   "source": [
    "print(\"\\n\".join(list(biscuits_data.columns)))"
   ]
  },
  {
   "cell_type": "markdown",
   "id": "5e02f9e6-030a-4b70-a0d5-a0f1380953cb",
   "metadata": {
    "editable": true,
    "slideshow": {
     "slide_type": ""
    },
    "tags": []
   },
   "source": [
    "This is a bit overwhelming, isn't it ?\n",
    "\n",
    "So let's take a look at some of them, the most usefull for many cases.\n",
    "\n",
    "That said if you need to dig more they are all documented in the [OpenAPI specficication](https://openfoodfacts.github.io/documentation/docs/Product-Opener/v3/products/get-product-by-barcode/)."
   ]
  },
  {
   "cell_type": "markdown",
   "id": "415e80d1-a890-450b-ac5d-ca24e34a4f6b",
   "metadata": {
    "editable": true,
    "slideshow": {
     "slide_type": ""
    },
    "tags": []
   },
   "source": [
    "### Identifying the product"
   ]
  },
  {
   "cell_type": "markdown",
   "id": "dc3eae37-c9fc-4480-9b2b-319bdf0f4540",
   "metadata": {},
   "source": [
    "First, some fields help us identify the product:"
   ]
  },
  {
   "cell_type": "markdown",
   "id": "65b3320f-098a-4a51-88dd-b574f43a127a",
   "metadata": {},
   "source": [
    "Code contains the barcode, it's also the unique identifier for the product:\n",
    "```{code-cell} ipython3\n",
    "biscuits_data[\"code\"][0]\n",
    "```"
   ]
  },
  {
   "cell_type": "code",
   "execution_count": 16,
   "id": "eabacb9f-3b6a-4fa2-9bb2-5f27fc8a8ebd",
   "metadata": {
    "execution": {
     "iopub.execute_input": "2025-09-29T08:10:14.113830Z",
     "iopub.status.busy": "2025-09-29T08:10:14.113569Z",
     "iopub.status.idle": "2025-09-29T08:10:14.116975Z",
     "shell.execute_reply": "2025-09-29T08:10:14.116241Z",
     "shell.execute_reply.started": "2025-09-29T08:10:14.113798Z"
    }
   },
   "outputs": [],
   "source": [
    "from textwrap import dedent as _d"
   ]
  },
  {
   "cell_type": "code",
   "execution_count": 14,
   "id": "cb5ee58f-dc20-48fd-b8a6-73b9827886d5",
   "metadata": {
    "execution": {
     "iopub.execute_input": "2025-09-29T08:06:22.835877Z",
     "iopub.status.busy": "2025-09-29T08:06:22.835440Z",
     "iopub.status.idle": "2025-09-29T08:06:22.847200Z",
     "shell.execute_reply": "2025-09-29T08:06:22.846461Z",
     "shell.execute_reply.started": "2025-09-29T08:06:22.835835Z"
    }
   },
   "outputs": [
    {
     "name": "stdout",
     "output_type": "stream",
     "text": [
      "code contains the barcode, it's also the unique identifier for the product \n",
      " 3175680011480 \n",
      "\n",
      "product_name is the product name in different languages \n",
      " [{'lang': 'main', 'text': 'Sésame'}\n",
      " {'lang': 'en', 'text': 'Gerblé - Sesame Cookie, 230g (8.2oz)'}\n",
      " {'lang': 'fr', 'text': 'Sésame'}] \n",
      "\n",
      "brands is the brand names \n",
      " Gerblé \n",
      "\n",
      "product_quantity is the product quantity in pack \n",
      " 230.0 \n",
      "\n",
      "product_quantity_unit is the product quantity unit \n",
      " g \n",
      "\n"
     ]
    }
   ],
   "source": [
    "_desc = [\n",
    "    (\"code\", \"contains the barcode, it's also the unique identifier for the product\"),\n",
    "    (\"product_name\", \"is the product name in different languages\"),\n",
    "    (\"brands\", \"is the brand names\"),\n",
    "    (\"product_quantity\", \"is the product quantity in pack\"),\n",
    "    (\"product_quantity_unit\", \"is the product quantity unit\"),\n",
    "]\n",
    "for field_name, description in _desc:\n",
    "    print(field_name, description, \"\\n\", biscuits_data[field_name][0], \"\\n\")"
   ]
  },
  {
   "cell_type": "markdown",
   "id": "9d98dc2e-b5c2-4bf6-b815-178ea5118d19",
   "metadata": {},
   "source": [
    "### Tags fields\n",
    "\n",
    "There are a lot of fields ending with \"_tags\", those are fields that are normalized in some way and are the one to priviledge when doing data analysis.\n",
    "\n",
    "The philosophy of open food facts project is to let user fill data as they find them on pack, and then try to make sense of those data. This is why we generally don't restrict fields input, but try to make sense of them during the analysis process.\n",
    "\n",
    "Let's see some informations we can get on the product using this kind of fields.\n",
    "\n"
   ]
  },
  {
   "cell_type": "code",
   "execution_count": 18,
   "id": "fcceac8d-1eab-4c86-b74d-b3e63b768121",
   "metadata": {
    "execution": {
     "iopub.execute_input": "2025-09-29T08:12:12.418302Z",
     "iopub.status.busy": "2025-09-29T08:12:12.417977Z",
     "iopub.status.idle": "2025-09-29T08:12:12.425587Z",
     "shell.execute_reply": "2025-09-29T08:12:12.424726Z",
     "shell.execute_reply.started": "2025-09-29T08:12:12.418277Z"
    }
   },
   "outputs": [
    {
     "name": "stdout",
     "output_type": "stream",
     "text": [
      "categories_tags \n",
      "are the categories the products belong to.\n",
      "Categories are very useful to grab an entire class of product, or for product comparison,\n",
      "but also for scores like Nutri-Score and Green-Score which formula may vary based on category.\n",
      " \n",
      "- en:snacks\n",
      "- en:sweet-snacks\n",
      "- en:biscuits-and-cakes\n",
      "- en:biscuits-and-crackers\n",
      "- en:biscuits \n",
      "\n",
      "ingredients_tags \n",
      "gives a list of ingredients known to be present in the product.\n",
      "We will see later on a more precise structure, but this can be handy to quickly easily select products.\n",
      " \n",
      "- en:wheat-flour\n",
      "- en:cereal\n",
      "- en:flour\n",
      "- en:wheat\n",
      "- en:cereal-flour\n",
      "- en:unrefined-cane-sugar\n",
      "- en:added-sugar\n",
      "- en:disaccharide\n",
      "- en:sugar\n",
      "- en:cane-sugar\n",
      "- en:unrefined-sugar\n",
      "- en:colza-oil\n",
      "- en:oil-and-fat\n",
      "- en:vegetable-oil-and-fat\n",
      "- en:rapeseed-oil\n",
      "- en:sesame\n",
      "- en:seed\n",
      "- en:wheat-germ\n",
      "- en:whole-wheat-flour\n",
      "- en:wholemeal-flour\n",
      "- en:natural-flavouring\n",
      "- en:flavouring\n",
      "- en:magnesium\n",
      "- en:minerals\n",
      "- en:emulsifier\n",
      "- en:raising-agent\n",
      "- en:sea-salt\n",
      "- en:salt\n",
      "- en:wheat-starch\n",
      "- en:starch\n",
      "- en:vitamins\n",
      "- en:vitamin-e\n",
      "- en:e375\n",
      "- en:vitamin-b6\n",
      "- en:thiamin\n",
      "- en:folic-acid\n",
      "- en:folate\n",
      "- en:e322\n",
      "- en:e336\n",
      "- en:e500\n",
      "- en:e503 \n",
      "\n",
      "brands_tags is the list of brands.\n",
      " You can have more than one brands in the sense that one maybe a sub-brand of the other. \n",
      "- xx:gerble \n",
      "\n",
      "labels_tags gives all allegations written on the product, within those are controlled labels \n",
      "- en:no-preservatives\n",
      "- en:green-dot\n",
      "- en:made-in-france\n",
      "- en:natural-flavors\n",
      "- en:no-colorings\n",
      "- en:no-palm-oil\n",
      "- en:nutriscore\n",
      "- en:nutriscore-grade-b\n",
      "- fr:triman \n",
      "\n",
      "allergens_tags list allergens \n",
      "- en:gluten\n",
      "- en:sesame-seeds \n",
      "\n"
     ]
    }
   ],
   "source": [
    "_desc = [\n",
    "    (\n",
    "        \"categories_tags\", \n",
    "        \"\"\"\n",
    "        are the categories the products belong to.\n",
    "        Categories are very useful to grab an entire class of product, or for product comparison,\n",
    "        but also for scores like Nutri-Score and Green-Score which formula may vary based on category.\n",
    "        \"\"\"\n",
    "    ),\n",
    "    (\n",
    "        \"ingredients_tags\",\n",
    "        \"\"\"\n",
    "        gives a list of ingredients known to be present in the product.\n",
    "        We will see later on a more precise structure, but this can be handy to quickly easily select products.\n",
    "        \"\"\"\n",
    "    ),\n",
    "    (\"brands_tags\", \"is the list of brands.\\n You can have more than one brands in the sense that one maybe a sub-brand of the other.\"),\n",
    "    (\"labels_tags\", \"gives all allegations written on the product, within those are controlled labels\"),\n",
    "    (\"allergens_tags\", \"list allergens\"),\n",
    "]\n",
    "for field_name, description in _desc:\n",
    "    print(field_name, _d(description), \"\\n-\", \"\\n- \".join(biscuits_data[field_name][0]), \"\\n\")"
   ]
  },
  {
   "cell_type": "markdown",
   "id": "4f15f782-e548-425d-ba63-f5f529fb5df2",
   "metadata": {},
   "source": [
    "As you can see all those tags start with a language code, the a column, and then a dashed name.\n",
    "The language code is mostly english, but it might be `xx` to mean *in all languages* and, for example, we have `fr:triman` because this lable is only found in France (so as no real english translation)."
   ]
  },
  {
   "cell_type": "markdown",
   "id": "c085c1ac-0b1c-4011-9026-eb982cc62de4",
   "metadata": {},
   "source": [
    "### Taxonomies"
   ]
  },
  {
   "cell_type": "markdown",
   "id": "eecd0cbb-9884-4ac1-9d6e-c8e271380fcf",
   "metadata": {},
   "source": [
    "To take full advantages of those tags, one might use [taxonomies](https://wiki.openfoodfacts.org/Taxonomies_introduction).\n",
    "\n",
    "They contain translations and synonyms for the various entries, as well as properties linked to them.\n",
    "\n",
    "Hopefully we have a [Python SDK](https://github.com/openfoodfacts/openfoodfacts-python/) that [can help on this task](https://github.com/openfoodfacts/openfoodfacts-python/blob/develop/docs/handle_taxonomies.md)."
   ]
  },
  {
   "cell_type": "markdown",
   "id": "4913b6ab-638c-45cd-8ebd-7320b0664300",
   "metadata": {},
   "source": [
    "For example taxonomies might help us get a simple display name for the categories and display some properties"
   ]
  },
  {
   "cell_type": "code",
   "execution_count": 20,
   "id": "1a375f06-54b7-465c-b8a9-91c8ef9c9299",
   "metadata": {
    "execution": {
     "iopub.execute_input": "2025-09-29T09:14:10.603969Z",
     "iopub.status.busy": "2025-09-29T09:14:10.603688Z",
     "iopub.status.idle": "2025-09-29T09:14:10.795087Z",
     "shell.execute_reply": "2025-09-29T09:14:10.794430Z",
     "shell.execute_reply.started": "2025-09-29T09:14:10.603951Z"
    }
   },
   "outputs": [],
   "source": [
    "from openfoodfacts.taxonomy import get_taxonomy\n",
    "categories_taxonomy = get_taxonomy(\"category\")"
   ]
  },
  {
   "cell_type": "code",
   "execution_count": 38,
   "id": "d676946f-83d9-4829-a55a-fed241f55ab9",
   "metadata": {
    "execution": {
     "iopub.execute_input": "2025-09-29T11:24:38.758979Z",
     "iopub.status.busy": "2025-09-29T11:24:38.758729Z",
     "iopub.status.idle": "2025-09-29T11:24:38.764666Z",
     "shell.execute_reply": "2025-09-29T11:24:38.763932Z",
     "shell.execute_reply.started": "2025-09-29T11:24:38.758962Z"
    }
   },
   "outputs": [
    {
     "name": "stdout",
     "output_type": "stream",
     "text": [
      "en:snacks \n",
      "  fr: Snacks  \n",
      "---\n",
      "  wikidata:{'en': 'Q749316'} \n",
      "\n",
      "\n",
      "en:sweet-snacks \n",
      "  fr: Snacks sucrés (or sucreries) \n",
      "---\n",
      "  incompatible_with:{'en': 'categories:en:salty-snacks'}\n",
      "  nova:{'en': '3'} \n",
      "\n",
      "\n",
      "en:biscuits-and-cakes \n",
      "  fr: Biscuits et gâteaux  \n",
      "---\n",
      "  description:{'en': 'A biscuit is a flour-based baked food product, which is typically hard, flat and unleavened.'}\n",
      "  food_groups:{'en': 'en:biscuits-and-cakes'}\n",
      "  pnns_group_2:{'en': 'Biscuits and cakes'} \n",
      "\n",
      "\n",
      "en:biscuits-and-crackers \n",
      "  fr: Biscuits sucrés & biscuits apéritifs  \n",
      "---\n",
      "  intake24_category_code:{'en': 'BSCT'} \n",
      "\n",
      "\n",
      "en:biscuits \n",
      "  fr: Biscuits (or biscuit, biscuits sucrés, biscuit sucré) \n",
      "---\n",
      "  carbon_footprint_fr_foodges_ingredient:{'fr': 'Biscuit au beurre'}\n",
      "  ciqual_proxy_food_name:{'fr': 'Biscuit sec, sans précision', 'en': 'Biscuit -cookie-'}\n",
      "  wikipedia:{'en': 'https://en.wikipedia.org/wiki/Biscuit'}\n",
      "  agribalyse_proxy_food_code:{'en': '24000'}\n",
      "  ciqual_proxy_food_code:{'en': '24000'}\n",
      "  wikidata:{'en': 'Q13270'} \n",
      "\n",
      "\n"
     ]
    }
   ],
   "source": [
    "for category in biscuits_data[\"categories_tags\"][0]:\n",
    "    cat_taxo = categories_taxonomy[category]\n",
    "    # some entries might not be in taxonomy\n",
    "    if not cat_taxo:\n",
    "        print(category, \"is not in the taxonomy\\n\\n\")\n",
    "    else:\n",
    "        print(category, \n",
    "              \"\\n  fr:\", cat_taxo.get_localized_name(\"fr\"),\n",
    "              f\"(or {', '.join(cat_taxo.synonyms[\"fr\"][1:])})\" if len(cat_taxo.synonyms[\"fr\"]) > 1 else \"\", \n",
    "              \"\\n---\\n \" , \"\\n  \".join(\":\".join([pname, repr(pvalue)]) for pname, pvalue in cat_taxo.properties.items()),\n",
    "              \"\\n\\n\",\n",
    "        ) "
   ]
  },
  {
   "cell_type": "markdown",
   "id": "61e2e86d-f195-4c5e-8100-45e87f087dd9",
   "metadata": {},
   "source": [
    "As you can see we retrieved quite interesting categories:\n",
    "* a proxy for the the ciqual code\n",
    "* PNNS (nutrition program in France) code\n",
    "* intake24 category code\n",
    "* a proxy to agribalyse code\n",
    "* wikipedia and wikidata entry\n",
    "* etc."
   ]
  },
  {
   "cell_type": "markdown",
   "id": "31a70fa3-c338-4b66-9c64-3e54105245d6",
   "metadata": {},
   "source": [
    "Also note that the `_tags` fields might also contains items that are not (yet?) in the taxonomy."
   ]
  },
  {
   "cell_type": "markdown",
   "id": "79ae53e7-e09f-4a02-9821-7713cbe4a69b",
   "metadata": {},
   "source": [
    "The taxonomy is a DAG. As you can see, in `_tags` fields, we not only have the leaf nodes of the taxonomy, but also parents.\n",
    "It's easy to get the leaf nodes though:"
   ]
  },
  {
   "cell_type": "code",
   "execution_count": 46,
   "id": "2154200e-2606-4d0b-b09b-9dda03c3a8df",
   "metadata": {
    "execution": {
     "iopub.execute_input": "2025-09-29T11:43:01.730878Z",
     "iopub.status.busy": "2025-09-29T11:43:01.730589Z",
     "iopub.status.idle": "2025-09-29T11:43:01.735030Z",
     "shell.execute_reply": "2025-09-29T11:43:01.734472Z",
     "shell.execute_reply.started": "2025-09-29T11:43:01.730860Z"
    }
   },
   "outputs": [
    {
     "name": "stdout",
     "output_type": "stream",
     "text": [
      "Leaf category: en:biscuits\n"
     ]
    }
   ],
   "source": [
    "# Convert the ID to TaxonomyNode objects:\n",
    "categories_nodes = [categories_taxonomy[tag] for tag in biscuits_data['categories_tags'][0] if tag in categories_taxonomy]\n",
    "# Let's find the leaf nodes using find_deepest_nodes method:\n",
    "leaf_categories = categories_taxonomy.find_deepest_nodes(categories_nodes)\n",
    "print(\"Leaf category:\", \"\\n\".join(l.id for l in leaf_categories))"
   ]
  },
  {
   "cell_type": "markdown",
   "id": "d4b6b9b3-56a2-426d-b8e7-15728a863c76",
   "metadata": {},
   "source": [
    "You might ask what is the leading principle around building the taxonomy: this is the concerns of the Open Food Facts project. So it's more geared toward consumer experience, twisted some time to enable scores computation.\n",
    "But this is the right place to link to other onthologies etc.\n",
    "\n",
    "Contribution to alignment with existing onthologies is more than welcome."
   ]
  },
  {
   "cell_type": "markdown",
   "id": "38247df5-be4a-4144-b146-fe5e83846e25",
   "metadata": {},
   "source": [
    "**Exercice:** Can you list properties from labels ?"
   ]
  },
  {
   "cell_type": "markdown",
   "id": "6b13d289-7cb9-443b-a97f-401edd2b2489",
   "metadata": {},
   "source": [
    "### Nutrition data"
   ]
  },
  {
   "cell_type": "markdown",
   "id": "1251ab30-7e82-4b6e-befb-a3e65e2ab7be",
   "metadata": {},
   "source": [
    "One important topic is of course nutrition.\n",
    "\n",
    "The `nutriments` (yes, it should have been called *nutrients*) fields contains nutrition information.\n",
    "\n",
    "It is an array of dictionary containing information for each nutrients.\n",
    "\n",
    "The fields for each nutriments are:\n",
    "* name - name of nutrient\n",
    "* 100g and value - quantity for 100g\n",
    "* unit - the unit for the quantity\n",
    "* serving - the quantity per serving"
   ]
  },
  {
   "cell_type": "markdown",
   "id": "79de68fe-59cd-4bf0-a3cf-db3555287c02",
   "metadata": {},
   "source": [
    "We have an array, because of parquets constraints, but we can easily transform it to a dict, indexing by name"
   ]
  },
  {
   "cell_type": "code",
   "execution_count": 62,
   "id": "b6b2c808-d4ce-45aa-be02-c5e3069dfb43",
   "metadata": {
    "execution": {
     "iopub.execute_input": "2025-09-29T12:50:32.205672Z",
     "iopub.status.busy": "2025-09-29T12:50:32.205346Z",
     "iopub.status.idle": "2025-09-29T12:50:32.209218Z",
     "shell.execute_reply": "2025-09-29T12:50:32.208397Z",
     "shell.execute_reply.started": "2025-09-29T12:50:32.205641Z"
    }
   },
   "outputs": [],
   "source": [
    "biscuits_nutrients = {nutrient[\"name\"]: nutrient for nutrient in biscuits_data[\"nutriments\"][0]}"
   ]
  },
  {
   "cell_type": "markdown",
   "id": "da33ed9d-f96d-465f-8310-47a03b5212bd",
   "metadata": {},
   "source": [
    "Let's list availabel fields for our biscuits"
   ]
  },
  {
   "cell_type": "code",
   "execution_count": 63,
   "id": "fad1516c-b386-435e-99ab-b8d263a94723",
   "metadata": {
    "execution": {
     "iopub.execute_input": "2025-09-29T12:50:50.703305Z",
     "iopub.status.busy": "2025-09-29T12:50:50.703005Z",
     "iopub.status.idle": "2025-09-29T12:50:50.707296Z",
     "shell.execute_reply": "2025-09-29T12:50:50.706573Z",
     "shell.execute_reply.started": "2025-09-29T12:50:50.703282Z"
    }
   },
   "outputs": [
    {
     "name": "stdout",
     "output_type": "stream",
     "text": [
      "carbohydrates\n",
      "carbon-footprint-from-known-ingredients\n",
      "energy\n",
      "energy-kcal\n",
      "energy-kj\n",
      "fat\n",
      "fiber\n",
      "fruits-vegetables-legumes-estimate-from-ingredients\n",
      "fruits-vegetables-nuts\n",
      "fruits-vegetables-nuts-estimate-from-ingredients\n",
      "magnesium\n",
      "nova-group\n",
      "nutrition-score-fr\n",
      "proteins\n",
      "salt\n",
      "saturated-fat\n",
      "sodium\n",
      "sugars\n",
      "vitamin-b1\n",
      "vitamin-b6\n",
      "vitamin-b9\n",
      "vitamin-e\n",
      "vitamin-pp\n"
     ]
    }
   ],
   "source": [
    "print(\"\\n\".join(sorted(biscuits_nutrients.keys())))"
   ]
  },
  {
   "cell_type": "markdown",
   "id": "3c8e35c8-6215-410f-9a43-0a35d790ca27",
   "metadata": {},
   "source": [
    "And look at some important nutrients for our biscuits"
   ]
  },
  {
   "cell_type": "code",
   "execution_count": 67,
   "id": "e05dccb4-4dba-489e-aabd-c00cc0ee6dd7",
   "metadata": {
    "execution": {
     "iopub.execute_input": "2025-09-29T13:14:01.248390Z",
     "iopub.status.busy": "2025-09-29T13:14:01.248165Z",
     "iopub.status.idle": "2025-09-29T13:14:01.262181Z",
     "shell.execute_reply": "2025-09-29T13:14:01.261330Z",
     "shell.execute_reply.started": "2025-09-29T13:14:01.248372Z"
    }
   },
   "outputs": [
    {
     "data": {
      "text/html": [
       "<div>\n",
       "<style scoped>\n",
       "    .dataframe tbody tr th:only-of-type {\n",
       "        vertical-align: middle;\n",
       "    }\n",
       "\n",
       "    .dataframe tbody tr th {\n",
       "        vertical-align: top;\n",
       "    }\n",
       "\n",
       "    .dataframe thead th {\n",
       "        text-align: right;\n",
       "    }\n",
       "</style>\n",
       "<table border=\"1\" class=\"dataframe\">\n",
       "  <thead>\n",
       "    <tr style=\"text-align: right;\">\n",
       "      <th></th>\n",
       "      <th>name</th>\n",
       "      <th>100g</th>\n",
       "      <th>unit</th>\n",
       "      <th>serving</th>\n",
       "    </tr>\n",
       "  </thead>\n",
       "  <tbody>\n",
       "    <tr>\n",
       "      <th>1</th>\n",
       "      <td>fat</td>\n",
       "      <td>18.00</td>\n",
       "      <td>g</td>\n",
       "      <td>2.070000</td>\n",
       "    </tr>\n",
       "    <tr>\n",
       "      <th>2</th>\n",
       "      <td>fiber</td>\n",
       "      <td>4.60</td>\n",
       "      <td>g</td>\n",
       "      <td>0.529000</td>\n",
       "    </tr>\n",
       "    <tr>\n",
       "      <th>12</th>\n",
       "      <td>carbohydrates</td>\n",
       "      <td>64.00</td>\n",
       "      <td>g</td>\n",
       "      <td>7.360000</td>\n",
       "    </tr>\n",
       "    <tr>\n",
       "      <th>13</th>\n",
       "      <td>salt</td>\n",
       "      <td>0.38</td>\n",
       "      <td>g</td>\n",
       "      <td>0.043700</td>\n",
       "    </tr>\n",
       "    <tr>\n",
       "      <th>14</th>\n",
       "      <td>energy-kcal</td>\n",
       "      <td>467.00</td>\n",
       "      <td>kcal</td>\n",
       "      <td>53.700001</td>\n",
       "    </tr>\n",
       "    <tr>\n",
       "      <th>16</th>\n",
       "      <td>energy-kj</td>\n",
       "      <td>1961.00</td>\n",
       "      <td>kJ</td>\n",
       "      <td>226.000000</td>\n",
       "    </tr>\n",
       "  </tbody>\n",
       "</table>\n",
       "</div>"
      ],
      "text/plain": [
       "             name     100g  unit     serving\n",
       "1             fat    18.00     g    2.070000\n",
       "2           fiber     4.60     g    0.529000\n",
       "12  carbohydrates    64.00     g    7.360000\n",
       "13           salt     0.38     g    0.043700\n",
       "14    energy-kcal   467.00  kcal   53.700001\n",
       "16      energy-kj  1961.00    kJ  226.000000"
      ]
     },
     "execution_count": 67,
     "metadata": {},
     "output_type": "execute_result"
    }
   ],
   "source": [
    "import pandas as pd\n",
    "\n",
    "df = pd.DataFrame(biscuits_nutrients.values(), columns=[\"name\", \"100g\", \"unit\", \"serving\"])\n",
    "df[df['name'].isin([\"energy-kj\", \"energy-kcal\", \"carbohydrates\", \"fat\", \"salt\", \"fiber\"])]"
   ]
  },
  {
   "cell_type": "markdown",
   "id": "8cedb8d9-6905-4993-8ddf-89d4c7de86e2",
   "metadata": {},
   "source": [
    "As you see we have the value per serving, but this later is only available if we have the \"serving_quantity\" data.\n",
    "(and vice versa, if the primary value, was the serving value, as in the some countries, like the USA).\n",
    "\n",
    "Note: the `serving_size` field is a textual field with the quantity, while serving_quantity is numeric, result of analyze of serving_size)"
   ]
  },
  {
   "cell_type": "code",
   "execution_count": 72,
   "id": "2d4b9732-e0f0-414c-8834-7c8cd2cd85a8",
   "metadata": {
    "execution": {
     "iopub.execute_input": "2025-09-29T13:23:08.296684Z",
     "iopub.status.busy": "2025-09-29T13:23:08.296410Z",
     "iopub.status.idle": "2025-09-29T13:23:08.300100Z",
     "shell.execute_reply": "2025-09-29T13:23:08.299373Z",
     "shell.execute_reply.started": "2025-09-29T13:23:08.296665Z"
    }
   },
   "outputs": [
    {
     "name": "stdout",
     "output_type": "stream",
     "text": [
      "11.5\n"
     ]
    }
   ],
   "source": [
    "print(biscuits_data[\"serving_quantity\"][0])"
   ]
  },
  {
   "cell_type": "markdown",
   "id": "57d2f679-a15e-4fd4-8668-54e4d2cdc5d1",
   "metadata": {
    "execution": {
     "iopub.execute_input": "2025-09-29T13:39:31.506834Z",
     "iopub.status.busy": "2025-09-29T13:39:31.506488Z",
     "iopub.status.idle": "2025-09-29T13:39:31.509853Z",
     "shell.execute_reply": "2025-09-29T13:39:31.509206Z",
     "shell.execute_reply.started": "2025-09-29T13:39:31.506815Z"
    }
   },
   "source": [
    "### Ingredients"
   ]
  },
  {
   "cell_type": "markdown",
   "id": "0d761a39-b194-45bc-b0bd-0d52a5a520cc",
   "metadata": {},
   "source": [
    "Another key point for food is ingredients. We can derive a lot of useful information from them.\n",
    "\n",
    "We have the raw information in `ingredient_text`, with one entry per language, with \"main\" being the entry for product main language (which is the one which will get analyzed)"
   ]
  },
  {
   "cell_type": "code",
   "execution_count": 93,
   "id": "51252789-9e04-4b61-a5c3-87d1d3b3948c",
   "metadata": {
    "execution": {
     "iopub.execute_input": "2025-09-29T14:25:41.109006Z",
     "iopub.status.busy": "2025-09-29T14:25:41.108790Z",
     "iopub.status.idle": "2025-09-29T14:25:41.114072Z",
     "shell.execute_reply": "2025-09-29T14:25:41.113558Z",
     "shell.execute_reply.started": "2025-09-29T14:25:41.108988Z"
    }
   },
   "outputs": [
    {
     "data": {
      "text/plain": [
       "\"Farine de blé 57%, sucre de canne roux, huile de colza, sésame toasté 10,6%, germe de blé 5,4%, farine complète de blé 5,4%, arôme naturel, magnésium, émulsifiant : lécithines, poudres à lever (tartrates de potassium, carbonates de sodium, carbonates d'ammonium), sel de mer, amidon de blé, vitamines (E, PP, B6, B1, B9).\""
      ]
     },
     "execution_count": 93,
     "metadata": {},
     "output_type": "execute_result"
    }
   ],
   "source": [
    "next(d for d in biscuits_data[\"ingredients_text\"][0] if d[\"lang\"] == \"main\")[\"text\"]"
   ]
  },
  {
   "cell_type": "markdown",
   "id": "395ffd7a-2ce0-4adc-a080-02ff4dbc1c19",
   "metadata": {},
   "source": [
    "But this data is not very easy to work with.\n",
    "\n",
    "Open Food Facts does an analysis of this data and generates the `ingredients` field which contains different data for each ingredients.\n",
    "\n",
    "It is an array of dict, but encoded in JSON (because we have (non homogenous) array nesting which is not supported natively)."
   ]
  },
  {
   "cell_type": "code",
   "execution_count": 89,
   "id": "927b9b38-b98a-4955-be78-dfdbba5ed52e",
   "metadata": {
    "execution": {
     "iopub.execute_input": "2025-09-29T13:57:48.448499Z",
     "iopub.status.busy": "2025-09-29T13:57:48.448247Z",
     "iopub.status.idle": "2025-09-29T13:57:48.451733Z",
     "shell.execute_reply": "2025-09-29T13:57:48.451097Z",
     "shell.execute_reply.started": "2025-09-29T13:57:48.448480Z"
    }
   },
   "outputs": [],
   "source": [
    "import json\n",
    "biscuits_ingredients = json.loads(biscuits_data[\"ingredients\"][0])"
   ]
  },
  {
   "cell_type": "code",
   "execution_count": 90,
   "id": "dd53879f-1fa3-43e5-98c4-5dc6e1d83129",
   "metadata": {
    "execution": {
     "iopub.execute_input": "2025-09-29T13:58:03.349324Z",
     "iopub.status.busy": "2025-09-29T13:58:03.348949Z",
     "iopub.status.idle": "2025-09-29T13:58:03.355063Z",
     "shell.execute_reply": "2025-09-29T13:58:03.354453Z",
     "shell.execute_reply.started": "2025-09-29T13:58:03.349275Z"
    }
   },
   "outputs": [
    {
     "data": {
      "text/plain": [
       "{'percent_max': 57.0,\n",
       " 'percent_min': 57.0,\n",
       " 'is_in_taxonomy': 1,\n",
       " 'percent_estimate': 57.0,\n",
       " 'vegan': 'yes',\n",
       " 'id': 'en:wheat-flour',\n",
       " 'text': 'Farine de blé',\n",
       " 'vegetarian': 'yes',\n",
       " 'ciqual_food_code': None,\n",
       " 'percent': 57.0,\n",
       " 'from_palm_oil': None,\n",
       " 'ingredients': None,\n",
       " 'ecobalyse_code': 'a2e25aca-1f42-4bc8-bc0e-4d7c751775aa',\n",
       " 'processing': None,\n",
       " 'labels': None,\n",
       " 'origins': None,\n",
       " 'ecobalyse_proxy_code': None,\n",
       " 'quantity': None,\n",
       " 'quantity_g': None,\n",
       " 'ciqual_proxy_food_code': '9410'}"
      ]
     },
     "execution_count": 90,
     "metadata": {},
     "output_type": "execute_result"
    }
   ],
   "source": [
    "biscuits_ingredients[0]"
   ]
  },
  {
   "cell_type": "code",
   "execution_count": null,
   "id": "97573642-015e-49a0-bccd-5a6ade011a00",
   "metadata": {},
   "outputs": [],
   "source": []
  },
  {
   "cell_type": "markdown",
   "id": "0b138543-65e4-4c13-b591-d3bef6f690a2",
   "metadata": {},
   "source": [
    "Some interesting fields:\n",
    "\n",
    "* `is_in_taxonomy`, tells us if we recognized this ingredient in the taxonomy\n",
    "* `id` is the id in the taxonomy\n",
    "* `vegan`, `vegetarian`, `from_palm_oil`, `ecobalyse_code` are informations derived from the taxonomy entry\n",
    "* the percentage, which was indicated, was captured correctly"
   ]
  },
  {
   "cell_type": "markdown",
   "id": "1d660005-9f87-4a8d-a22f-434c1f90893b",
   "metadata": {
    "execution": {
     "iopub.execute_input": "2025-09-29T14:03:46.081474Z",
     "iopub.status.busy": "2025-09-29T14:03:46.081186Z",
     "iopub.status.idle": "2025-09-29T14:03:46.086546Z",
     "shell.execute_reply": "2025-09-29T14:03:46.085297Z",
     "shell.execute_reply.started": "2025-09-29T14:03:46.081451Z"
    }
   },
   "source": [
    "Let's look at the second one"
   ]
  },
  {
   "cell_type": "code",
   "execution_count": 92,
   "id": "3a391ca6-2faf-4f40-bdb5-0c2f17f3541f",
   "metadata": {
    "execution": {
     "iopub.execute_input": "2025-09-29T14:04:02.133553Z",
     "iopub.status.busy": "2025-09-29T14:04:02.133265Z",
     "iopub.status.idle": "2025-09-29T14:04:02.138109Z",
     "shell.execute_reply": "2025-09-29T14:04:02.137549Z",
     "shell.execute_reply.started": "2025-09-29T14:04:02.133513Z"
    }
   },
   "outputs": [
    {
     "data": {
      "text/plain": [
       "{'percent_max': 11.0,\n",
       " 'percent_min': 10.6,\n",
       " 'is_in_taxonomy': 1,\n",
       " 'percent_estimate': 10.8,\n",
       " 'vegan': 'yes',\n",
       " 'id': 'en:unrefined-cane-sugar',\n",
       " 'text': 'sucre de canne roux',\n",
       " 'vegetarian': 'yes',\n",
       " 'ciqual_food_code': None,\n",
       " 'percent': None,\n",
       " 'from_palm_oil': None,\n",
       " 'ingredients': None,\n",
       " 'ecobalyse_code': '8f075c25-9ebf-430c-b41d-51d165c6e0d8',\n",
       " 'processing': None,\n",
       " 'labels': None,\n",
       " 'origins': None,\n",
       " 'ecobalyse_proxy_code': None,\n",
       " 'quantity': None,\n",
       " 'quantity_g': None,\n",
       " 'ciqual_proxy_food_code': '31016'}"
      ]
     },
     "execution_count": 92,
     "metadata": {},
     "output_type": "execute_result"
    }
   ],
   "source": [
    "biscuits_ingredients[1]"
   ]
  },
  {
   "cell_type": "markdown",
   "id": "97ab3923-20c5-4bb5-95f0-3d9ff9b1524a",
   "metadata": {},
   "source": [
    "The new thing is that you can see we did a very simple estimate of the percentage of this ingredient (`percent_min` and `percent_max`)"
   ]
  },
  {
   "attachments": {},
   "cell_type": "markdown",
   "id": "e53aad45-16cd-4943-85ab-47c1631f62e0",
   "metadata": {
    "execution": {
     "iopub.execute_input": "2025-09-29T14:30:20.097656Z",
     "iopub.status.busy": "2025-09-29T14:30:20.097226Z",
     "iopub.status.idle": "2025-09-29T14:30:20.102212Z",
     "shell.execute_reply": "2025-09-29T14:30:20.101368Z",
     "shell.execute_reply.started": "2025-09-29T14:30:20.097613Z"
    }
   },
   "source": [
    "Let's look at the \"emulsifi$ant\" part of ingredients (removing most fields for convenience)"
   ]
  },
  {
   "cell_type": "code",
   "execution_count": 102,
   "id": "c0cc5930-0729-487b-ba25-1fd71d300c66",
   "metadata": {
    "execution": {
     "iopub.execute_input": "2025-09-29T14:58:41.826303Z",
     "iopub.status.busy": "2025-09-29T14:58:41.826010Z",
     "iopub.status.idle": "2025-09-29T14:58:41.830909Z",
     "shell.execute_reply": "2025-09-29T14:58:41.829954Z",
     "shell.execute_reply.started": "2025-09-29T14:58:41.826279Z"
    }
   },
   "outputs": [],
   "source": [
    "def simplify_ingredients(ingredient):\n",
    "    return {name: (value if name != \"ingredients\" else [simplify_ingredients(v) for v in value] if value else None) for name, value in ingredient.items() if name in [\"text\", \"id\", \"ingredients\"]}"
   ]
  },
  {
   "cell_type": "code",
   "execution_count": 103,
   "id": "81f7fb27-0973-4c44-a502-9c2aa46d848d",
   "metadata": {
    "execution": {
     "iopub.execute_input": "2025-09-29T14:58:45.545787Z",
     "iopub.status.busy": "2025-09-29T14:58:45.545503Z",
     "iopub.status.idle": "2025-09-29T14:58:45.550376Z",
     "shell.execute_reply": "2025-09-29T14:58:45.549763Z",
     "shell.execute_reply.started": "2025-09-29T14:58:45.545769Z"
    }
   },
   "outputs": [
    {
     "data": {
      "text/plain": [
       "{'id': 'en:emulsifier',\n",
       " 'text': 'émulsifiant',\n",
       " 'ingredients': [{'id': 'en:e322', 'text': 'lécithines', 'ingredients': None}]}"
      ]
     },
     "execution_count": 103,
     "metadata": {},
     "output_type": "execute_result"
    }
   ],
   "source": [
    "simplify_ingredients(biscuits_ingredients[8])"
   ]
  },
  {
   "cell_type": "markdown",
   "id": "0ff7f4b9-0771-4279-94bb-deff271360ac",
   "metadata": {},
   "source": [
    "As you can see *lécithines* was spotted as a sub ingredient of \"émulsifiant\"."
   ]
  },
  {
   "cell_type": "markdown",
   "id": "aea2134b-aba3-4bda-b60b-4236c83e90ff",
   "metadata": {},
   "source": [
    "Next is even more complex"
   ]
  },
  {
   "cell_type": "code",
   "execution_count": 104,
   "id": "c731b2b3-c1eb-469f-ba80-1d4093aad42a",
   "metadata": {
    "execution": {
     "iopub.execute_input": "2025-09-29T14:59:42.268652Z",
     "iopub.status.busy": "2025-09-29T14:59:42.268335Z",
     "iopub.status.idle": "2025-09-29T14:59:42.274423Z",
     "shell.execute_reply": "2025-09-29T14:59:42.273628Z",
     "shell.execute_reply.started": "2025-09-29T14:59:42.268633Z"
    }
   },
   "outputs": [
    {
     "data": {
      "text/plain": [
       "{'id': 'en:raising-agent',\n",
       " 'text': 'poudres à lever',\n",
       " 'ingredients': [{'id': 'en:e336',\n",
       "   'text': 'tartrates de potassium',\n",
       "   'ingredients': None},\n",
       "  {'id': 'en:e500', 'text': 'carbonates de sodium', 'ingredients': None},\n",
       "  {'id': 'en:e503', 'text': \"carbonates d'ammonium\", 'ingredients': None}]}"
      ]
     },
     "execution_count": 104,
     "metadata": {},
     "output_type": "execute_result"
    }
   ],
   "source": [
    "simplify_ingredients(biscuits_ingredients[9])"
   ]
  },
  {
   "cell_type": "markdown",
   "id": "6a6fc2e9-0b33-44e8-b59f-70a32150fecb",
   "metadata": {},
   "source": [
    "Here, the raising-agent was clearly decomposed in the various sub components"
   ]
  }
 ],
 "metadata": {
  "kernelspec": {
   "display_name": "Python 3 (ipykernel)",
   "language": "python",
   "name": "python3"
  },
  "language_info": {
   "codemirror_mode": {
    "name": "ipython",
    "version": 3
   },
   "file_extension": ".py",
   "mimetype": "text/x-python",
   "name": "python",
   "nbconvert_exporter": "python",
   "pygments_lexer": "ipython3",
   "version": "3.13.3"
  }
 },
 "nbformat": 4,
 "nbformat_minor": 5
}
